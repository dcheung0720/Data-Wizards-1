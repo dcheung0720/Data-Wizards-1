{
 "cells": [
  {
   "cell_type": "code",
   "execution_count": 34,
   "metadata": {},
   "outputs": [],
   "source": [
    "import pandas as pd\n",
    "import matplotlib.pyplot as plt\n",
    "import numpy as np\n",
    "import scipy.stats as st\n"
   ]
  },
  {
   "cell_type": "code",
   "execution_count": 35,
   "metadata": {},
   "outputs": [],
   "source": [
    "df = pd.read_csv(\"Resources/People_Involved.csv\")"
   ]
  },
  {
   "cell_type": "code",
   "execution_count": 36,
   "metadata": {},
   "outputs": [
    {
     "data": {
      "text/html": [
       "<div>\n",
       "<style scoped>\n",
       "    .dataframe tbody tr th:only-of-type {\n",
       "        vertical-align: middle;\n",
       "    }\n",
       "\n",
       "    .dataframe tbody tr th {\n",
       "        vertical-align: top;\n",
       "    }\n",
       "\n",
       "    .dataframe thead th {\n",
       "        text-align: right;\n",
       "    }\n",
       "</style>\n",
       "<table border=\"1\" class=\"dataframe\">\n",
       "  <thead>\n",
       "    <tr style=\"text-align: right;\">\n",
       "      <th></th>\n",
       "      <th>Unnamed: 0</th>\n",
       "      <th>St Case Num</th>\n",
       "      <th>Age</th>\n",
       "      <th>Sex</th>\n",
       "      <th>Race</th>\n",
       "      <th>Seat Pos</th>\n",
       "      <th>AirBag Deployed</th>\n",
       "      <th>Is Fatal</th>\n",
       "      <th>Is Drug</th>\n",
       "      <th>Is Drunk</th>\n",
       "      <th>BAC</th>\n",
       "      <th>Case Date</th>\n",
       "      <th>Make Name</th>\n",
       "      <th>Model Name</th>\n",
       "      <th>Model Year</th>\n",
       "      <th>State</th>\n",
       "      <th>County</th>\n",
       "    </tr>\n",
       "  </thead>\n",
       "  <tbody>\n",
       "    <tr>\n",
       "      <th>0</th>\n",
       "      <td>0</td>\n",
       "      <td>470714</td>\n",
       "      <td>57</td>\n",
       "      <td>1</td>\n",
       "      <td>NaN</td>\n",
       "      <td>Front Seat, Left Side</td>\n",
       "      <td>False</td>\n",
       "      <td>True</td>\n",
       "      <td>Reported as Unknown</td>\n",
       "      <td>Reported as Unknown</td>\n",
       "      <td>Test Not Given</td>\n",
       "      <td>2019-09-15</td>\n",
       "      <td>Harley-Davidson</td>\n",
       "      <td>Harley-Davidson 750cc or greater</td>\n",
       "      <td>2014</td>\n",
       "      <td>Tennessee</td>\n",
       "      <td>SHELBY (157)</td>\n",
       "    </tr>\n",
       "    <tr>\n",
       "      <th>1</th>\n",
       "      <td>1</td>\n",
       "      <td>480881</td>\n",
       "      <td>68</td>\n",
       "      <td>1</td>\n",
       "      <td>NaN</td>\n",
       "      <td>Front Seat, Left Side</td>\n",
       "      <td>False</td>\n",
       "      <td>True</td>\n",
       "      <td>Not Reported</td>\n",
       "      <td>Not Reported</td>\n",
       "      <td>Test Not Given</td>\n",
       "      <td>2019-04-20</td>\n",
       "      <td>Nissan/Datsun</td>\n",
       "      <td>Nissan/Datsun Nissan/Datsun Pickup (1955-1997)</td>\n",
       "      <td>1994</td>\n",
       "      <td>Texas</td>\n",
       "      <td>HARRIS (201)</td>\n",
       "    </tr>\n",
       "    <tr>\n",
       "      <th>2</th>\n",
       "      <td>2</td>\n",
       "      <td>120420</td>\n",
       "      <td>72</td>\n",
       "      <td>1</td>\n",
       "      <td>NaN</td>\n",
       "      <td>Front Seat, Left Side</td>\n",
       "      <td>True</td>\n",
       "      <td>False</td>\n",
       "      <td>No (drugs not involved)</td>\n",
       "      <td>No (Alcohol Not Involved)</td>\n",
       "      <td>Not Reported</td>\n",
       "      <td>2020-02-19</td>\n",
       "      <td>Honda</td>\n",
       "      <td>Honda Ridgeline</td>\n",
       "      <td>2020</td>\n",
       "      <td>Florida</td>\n",
       "      <td>BREVARD (9)</td>\n",
       "    </tr>\n",
       "    <tr>\n",
       "      <th>3</th>\n",
       "      <td>3</td>\n",
       "      <td>120420</td>\n",
       "      <td>80</td>\n",
       "      <td>2</td>\n",
       "      <td>NaN</td>\n",
       "      <td>Front Seat, Right Side</td>\n",
       "      <td>True</td>\n",
       "      <td>False</td>\n",
       "      <td>Not Reported</td>\n",
       "      <td>Not Reported</td>\n",
       "      <td>Test Not Given</td>\n",
       "      <td>2020-02-19</td>\n",
       "      <td>Honda</td>\n",
       "      <td>Honda Ridgeline</td>\n",
       "      <td>2020</td>\n",
       "      <td>Florida</td>\n",
       "      <td>BREVARD (9)</td>\n",
       "    </tr>\n",
       "    <tr>\n",
       "      <th>4</th>\n",
       "      <td>4</td>\n",
       "      <td>240309</td>\n",
       "      <td>43</td>\n",
       "      <td>1</td>\n",
       "      <td>NaN</td>\n",
       "      <td>Front Seat, Left Side</td>\n",
       "      <td>False</td>\n",
       "      <td>False</td>\n",
       "      <td>Reported as Unknown</td>\n",
       "      <td>Yes (Alcohol Involved)</td>\n",
       "      <td>Not Reported</td>\n",
       "      <td>2021-08-29</td>\n",
       "      <td>Triumph</td>\n",
       "      <td>Triumph 450-749cc</td>\n",
       "      <td>2022</td>\n",
       "      <td>Maryland</td>\n",
       "      <td>FREDERICK (21)</td>\n",
       "    </tr>\n",
       "    <tr>\n",
       "      <th>5</th>\n",
       "      <td>5</td>\n",
       "      <td>240309</td>\n",
       "      <td>24</td>\n",
       "      <td>2</td>\n",
       "      <td>NaN</td>\n",
       "      <td>Second Seat, Left Side</td>\n",
       "      <td>False</td>\n",
       "      <td>True</td>\n",
       "      <td>Not Reported</td>\n",
       "      <td>Not Reported</td>\n",
       "      <td>0.120 % BAC</td>\n",
       "      <td>2021-08-29</td>\n",
       "      <td>Triumph</td>\n",
       "      <td>Triumph 450-749cc</td>\n",
       "      <td>2022</td>\n",
       "      <td>Maryland</td>\n",
       "      <td>FREDERICK (21)</td>\n",
       "    </tr>\n",
       "    <tr>\n",
       "      <th>6</th>\n",
       "      <td>6</td>\n",
       "      <td>130616</td>\n",
       "      <td>43</td>\n",
       "      <td>2</td>\n",
       "      <td>Black</td>\n",
       "      <td>Front Seat, Left Side</td>\n",
       "      <td>False</td>\n",
       "      <td>True</td>\n",
       "      <td>Not Reported</td>\n",
       "      <td>Not Reported</td>\n",
       "      <td>0.000 % BAC</td>\n",
       "      <td>2018-06-11</td>\n",
       "      <td>Honda</td>\n",
       "      <td>Honda Accord (Note: For Crosstour model years ...</td>\n",
       "      <td>1997</td>\n",
       "      <td>Georgia</td>\n",
       "      <td>THOMAS (275)</td>\n",
       "    </tr>\n",
       "    <tr>\n",
       "      <th>7</th>\n",
       "      <td>7</td>\n",
       "      <td>170825</td>\n",
       "      <td>25</td>\n",
       "      <td>1</td>\n",
       "      <td>Not a Fatality (not Applicable)</td>\n",
       "      <td>Front Seat, Left Side</td>\n",
       "      <td>True</td>\n",
       "      <td>False</td>\n",
       "      <td>Not Reported</td>\n",
       "      <td>No (Alcohol Not Involved)</td>\n",
       "      <td>Test Not Given</td>\n",
       "      <td>2018-11-03</td>\n",
       "      <td>Nissan/Datsun</td>\n",
       "      <td>Nissan/Datsun Pathfinder Armada</td>\n",
       "      <td>2018</td>\n",
       "      <td>Illinois</td>\n",
       "      <td>UNION (181)</td>\n",
       "    </tr>\n",
       "    <tr>\n",
       "      <th>8</th>\n",
       "      <td>8</td>\n",
       "      <td>170825</td>\n",
       "      <td>25</td>\n",
       "      <td>1</td>\n",
       "      <td>Not a Fatality (not Applicable)</td>\n",
       "      <td>Second Seat, Left Side</td>\n",
       "      <td>True</td>\n",
       "      <td>False</td>\n",
       "      <td>Not Reported</td>\n",
       "      <td>Not Reported</td>\n",
       "      <td>Test Not Given</td>\n",
       "      <td>2018-11-03</td>\n",
       "      <td>Nissan/Datsun</td>\n",
       "      <td>Nissan/Datsun Pathfinder Armada</td>\n",
       "      <td>2018</td>\n",
       "      <td>Illinois</td>\n",
       "      <td>UNION (181)</td>\n",
       "    </tr>\n",
       "    <tr>\n",
       "      <th>9</th>\n",
       "      <td>9</td>\n",
       "      <td>170825</td>\n",
       "      <td>47</td>\n",
       "      <td>1</td>\n",
       "      <td>Black</td>\n",
       "      <td>Front Seat, Right Side</td>\n",
       "      <td>True</td>\n",
       "      <td>True</td>\n",
       "      <td>Not Reported</td>\n",
       "      <td>Not Reported</td>\n",
       "      <td>0.000 % BAC</td>\n",
       "      <td>2018-11-03</td>\n",
       "      <td>Nissan/Datsun</td>\n",
       "      <td>Nissan/Datsun Pathfinder Armada</td>\n",
       "      <td>2018</td>\n",
       "      <td>Illinois</td>\n",
       "      <td>UNION (181)</td>\n",
       "    </tr>\n",
       "  </tbody>\n",
       "</table>\n",
       "</div>"
      ],
      "text/plain": [
       "   Unnamed: 0  St Case Num  Age  Sex                             Race  \\\n",
       "0           0       470714   57    1                              NaN   \n",
       "1           1       480881   68    1                              NaN   \n",
       "2           2       120420   72    1                              NaN   \n",
       "3           3       120420   80    2                              NaN   \n",
       "4           4       240309   43    1                              NaN   \n",
       "5           5       240309   24    2                              NaN   \n",
       "6           6       130616   43    2                            Black   \n",
       "7           7       170825   25    1  Not a Fatality (not Applicable)   \n",
       "8           8       170825   25    1  Not a Fatality (not Applicable)   \n",
       "9           9       170825   47    1                            Black   \n",
       "\n",
       "                 Seat Pos  AirBag Deployed  Is Fatal                  Is Drug  \\\n",
       "0   Front Seat, Left Side            False      True      Reported as Unknown   \n",
       "1   Front Seat, Left Side            False      True             Not Reported   \n",
       "2   Front Seat, Left Side             True     False  No (drugs not involved)   \n",
       "3  Front Seat, Right Side             True     False             Not Reported   \n",
       "4   Front Seat, Left Side            False     False      Reported as Unknown   \n",
       "5  Second Seat, Left Side            False      True             Not Reported   \n",
       "6   Front Seat, Left Side            False      True             Not Reported   \n",
       "7   Front Seat, Left Side             True     False             Not Reported   \n",
       "8  Second Seat, Left Side             True     False             Not Reported   \n",
       "9  Front Seat, Right Side             True      True             Not Reported   \n",
       "\n",
       "                    Is Drunk             BAC   Case Date        Make Name  \\\n",
       "0        Reported as Unknown  Test Not Given  2019-09-15  Harley-Davidson   \n",
       "1               Not Reported  Test Not Given  2019-04-20    Nissan/Datsun   \n",
       "2  No (Alcohol Not Involved)    Not Reported  2020-02-19            Honda   \n",
       "3               Not Reported  Test Not Given  2020-02-19            Honda   \n",
       "4     Yes (Alcohol Involved)    Not Reported  2021-08-29          Triumph   \n",
       "5               Not Reported     0.120 % BAC  2021-08-29          Triumph   \n",
       "6               Not Reported     0.000 % BAC  2018-06-11            Honda   \n",
       "7  No (Alcohol Not Involved)  Test Not Given  2018-11-03    Nissan/Datsun   \n",
       "8               Not Reported  Test Not Given  2018-11-03    Nissan/Datsun   \n",
       "9               Not Reported     0.000 % BAC  2018-11-03    Nissan/Datsun   \n",
       "\n",
       "                                          Model Name  Model Year      State  \\\n",
       "0                   Harley-Davidson 750cc or greater        2014  Tennessee   \n",
       "1     Nissan/Datsun Nissan/Datsun Pickup (1955-1997)        1994      Texas   \n",
       "2                                    Honda Ridgeline        2020    Florida   \n",
       "3                                    Honda Ridgeline        2020    Florida   \n",
       "4                                  Triumph 450-749cc        2022   Maryland   \n",
       "5                                  Triumph 450-749cc        2022   Maryland   \n",
       "6  Honda Accord (Note: For Crosstour model years ...        1997    Georgia   \n",
       "7                    Nissan/Datsun Pathfinder Armada        2018   Illinois   \n",
       "8                    Nissan/Datsun Pathfinder Armada        2018   Illinois   \n",
       "9                    Nissan/Datsun Pathfinder Armada        2018   Illinois   \n",
       "\n",
       "           County  \n",
       "0    SHELBY (157)  \n",
       "1    HARRIS (201)  \n",
       "2     BREVARD (9)  \n",
       "3     BREVARD (9)  \n",
       "4  FREDERICK (21)  \n",
       "5  FREDERICK (21)  \n",
       "6    THOMAS (275)  \n",
       "7     UNION (181)  \n",
       "8     UNION (181)  \n",
       "9     UNION (181)  "
      ]
     },
     "execution_count": 36,
     "metadata": {},
     "output_type": "execute_result"
    }
   ],
   "source": [
    "df.head(10)"
   ]
  },
  {
   "cell_type": "code",
   "execution_count": 37,
   "metadata": {},
   "outputs": [
    {
     "data": {
      "text/plain": [
       "<Figure size 1000x600 with 0 Axes>"
      ]
     },
     "metadata": {},
     "output_type": "display_data"
    },
    {
     "data": {
      "image/png": "[encoded data removed]",
      "text/plain": [
       "<Figure size 640x480 with 2 Axes>"
      ]
     },
     "metadata": {},
     "output_type": "display_data"
    }
   ],
   "source": [
    "# plot fatality vs age groups\n",
    "plt.figure(figsize=(10, 6))\n",
    "df['Age'].hist(by=df['Is Fatal'], bins=20, edgecolor='black', alpha=0.7)\n",
    "plt.suptitle('Fatality vs. Age Groups')\n",
    "plt.xlabel('Age')\n",
    "plt.ylabel('Number of People')\n",
    "plt.legend(['Non-Fatal', 'Fatal'])\n",
    "plt.show()"
   ]
  },
  {
   "cell_type": "code",
   "execution_count": 38,
   "metadata": {},
   "outputs": [
    {
     "data": {
      "image/png": "[encoded data removed]",
      "text/plain": [
       "<Figure size 640x480 with 1 Axes>"
      ]
     },
     "metadata": {},
     "output_type": "display_data"
    }
   ],
   "source": [
    "# Plot airbag deploy vs. fatality\n",
    "airbag_fatality_count = df.groupby(['AirBag Deployed', 'Is Fatal']).size().unstack()\n",
    "airbag_fatality_count.plot(kind='bar', stacked=True, color=['lightblue', 'salmon'])\n",
    "plt.title('Airbag Deployed vs. Is Fatal')\n",
    "plt.xlabel('Airbag Deployed')\n",
    "plt.ylabel('Number of People')\n",
    "plt.legend(['Non-Fatal', 'Fatal'])\n",
    "plt.show()"
   ]
  },
  {
   "cell_type": "code",
   "execution_count": 39,
   "metadata": {},
   "outputs": [],
   "source": [
    "# read the age data\n",
    "Age_df = pd.read_csv(\"Resources/People_Involved.csv\")\n",
    "Age = Age_df[\"Age\"]\n"
   ]
  },
  {
   "cell_type": "code",
   "execution_count": 40,
   "metadata": {},
   "outputs": [
    {
     "data": {
      "text/html": [
       "<div>\n",
       "<style scoped>\n",
       "    .dataframe tbody tr th:only-of-type {\n",
       "        vertical-align: middle;\n",
       "    }\n",
       "\n",
       "    .dataframe tbody tr th {\n",
       "        vertical-align: top;\n",
       "    }\n",
       "\n",
       "    .dataframe thead th {\n",
       "        text-align: right;\n",
       "    }\n",
       "</style>\n",
       "<table border=\"1\" class=\"dataframe\">\n",
       "  <thead>\n",
       "    <tr style=\"text-align: right;\">\n",
       "      <th></th>\n",
       "      <th>Unnamed: 0</th>\n",
       "      <th>St Case Num</th>\n",
       "      <th>Age</th>\n",
       "      <th>Sex</th>\n",
       "      <th>Race</th>\n",
       "      <th>Seat Pos</th>\n",
       "      <th>AirBag Deployed</th>\n",
       "      <th>Is Fatal</th>\n",
       "      <th>Is Drug</th>\n",
       "      <th>Is Drunk</th>\n",
       "      <th>BAC</th>\n",
       "      <th>Case Date</th>\n",
       "      <th>Make Name</th>\n",
       "      <th>Model Name</th>\n",
       "      <th>Model Year</th>\n",
       "      <th>State</th>\n",
       "      <th>County</th>\n",
       "    </tr>\n",
       "  </thead>\n",
       "  <tbody>\n",
       "    <tr>\n",
       "      <th>0</th>\n",
       "      <td>0</td>\n",
       "      <td>470714</td>\n",
       "      <td>57</td>\n",
       "      <td>1</td>\n",
       "      <td>NaN</td>\n",
       "      <td>Front Seat, Left Side</td>\n",
       "      <td>False</td>\n",
       "      <td>True</td>\n",
       "      <td>Reported as Unknown</td>\n",
       "      <td>Reported as Unknown</td>\n",
       "      <td>Test Not Given</td>\n",
       "      <td>2019-09-15</td>\n",
       "      <td>Harley-Davidson</td>\n",
       "      <td>Harley-Davidson 750cc or greater</td>\n",
       "      <td>2014</td>\n",
       "      <td>Tennessee</td>\n",
       "      <td>SHELBY (157)</td>\n",
       "    </tr>\n",
       "    <tr>\n",
       "      <th>1</th>\n",
       "      <td>1</td>\n",
       "      <td>480881</td>\n",
       "      <td>68</td>\n",
       "      <td>1</td>\n",
       "      <td>NaN</td>\n",
       "      <td>Front Seat, Left Side</td>\n",
       "      <td>False</td>\n",
       "      <td>True</td>\n",
       "      <td>Not Reported</td>\n",
       "      <td>Not Reported</td>\n",
       "      <td>Test Not Given</td>\n",
       "      <td>2019-04-20</td>\n",
       "      <td>Nissan/Datsun</td>\n",
       "      <td>Nissan/Datsun Nissan/Datsun Pickup (1955-1997)</td>\n",
       "      <td>1994</td>\n",
       "      <td>Texas</td>\n",
       "      <td>HARRIS (201)</td>\n",
       "    </tr>\n",
       "    <tr>\n",
       "      <th>2</th>\n",
       "      <td>2</td>\n",
       "      <td>120420</td>\n",
       "      <td>72</td>\n",
       "      <td>1</td>\n",
       "      <td>NaN</td>\n",
       "      <td>Front Seat, Left Side</td>\n",
       "      <td>True</td>\n",
       "      <td>False</td>\n",
       "      <td>No (drugs not involved)</td>\n",
       "      <td>No (Alcohol Not Involved)</td>\n",
       "      <td>Not Reported</td>\n",
       "      <td>2020-02-19</td>\n",
       "      <td>Honda</td>\n",
       "      <td>Honda Ridgeline</td>\n",
       "      <td>2020</td>\n",
       "      <td>Florida</td>\n",
       "      <td>BREVARD (9)</td>\n",
       "    </tr>\n",
       "    <tr>\n",
       "      <th>3</th>\n",
       "      <td>3</td>\n",
       "      <td>120420</td>\n",
       "      <td>80</td>\n",
       "      <td>2</td>\n",
       "      <td>NaN</td>\n",
       "      <td>Front Seat, Right Side</td>\n",
       "      <td>True</td>\n",
       "      <td>False</td>\n",
       "      <td>Not Reported</td>\n",
       "      <td>Not Reported</td>\n",
       "      <td>Test Not Given</td>\n",
       "      <td>2020-02-19</td>\n",
       "      <td>Honda</td>\n",
       "      <td>Honda Ridgeline</td>\n",
       "      <td>2020</td>\n",
       "      <td>Florida</td>\n",
       "      <td>BREVARD (9)</td>\n",
       "    </tr>\n",
       "    <tr>\n",
       "      <th>4</th>\n",
       "      <td>4</td>\n",
       "      <td>240309</td>\n",
       "      <td>43</td>\n",
       "      <td>1</td>\n",
       "      <td>NaN</td>\n",
       "      <td>Front Seat, Left Side</td>\n",
       "      <td>False</td>\n",
       "      <td>False</td>\n",
       "      <td>Reported as Unknown</td>\n",
       "      <td>Yes (Alcohol Involved)</td>\n",
       "      <td>Not Reported</td>\n",
       "      <td>2021-08-29</td>\n",
       "      <td>Triumph</td>\n",
       "      <td>Triumph 450-749cc</td>\n",
       "      <td>2022</td>\n",
       "      <td>Maryland</td>\n",
       "      <td>FREDERICK (21)</td>\n",
       "    </tr>\n",
       "  </tbody>\n",
       "</table>\n",
       "</div>"
      ],
      "text/plain": [
       "   Unnamed: 0  St Case Num  Age  Sex Race                Seat Pos  \\\n",
       "0           0       470714   57    1  NaN   Front Seat, Left Side   \n",
       "1           1       480881   68    1  NaN   Front Seat, Left Side   \n",
       "2           2       120420   72    1  NaN   Front Seat, Left Side   \n",
       "3           3       120420   80    2  NaN  Front Seat, Right Side   \n",
       "4           4       240309   43    1  NaN   Front Seat, Left Side   \n",
       "\n",
       "   AirBag Deployed  Is Fatal                  Is Drug  \\\n",
       "0            False      True      Reported as Unknown   \n",
       "1            False      True             Not Reported   \n",
       "2             True     False  No (drugs not involved)   \n",
       "3             True     False             Not Reported   \n",
       "4            False     False      Reported as Unknown   \n",
       "\n",
       "                    Is Drunk             BAC   Case Date        Make Name  \\\n",
       "0        Reported as Unknown  Test Not Given  2019-09-15  Harley-Davidson   \n",
       "1               Not Reported  Test Not Given  2019-04-20    Nissan/Datsun   \n",
       "2  No (Alcohol Not Involved)    Not Reported  2020-02-19            Honda   \n",
       "3               Not Reported  Test Not Given  2020-02-19            Honda   \n",
       "4     Yes (Alcohol Involved)    Not Reported  2021-08-29          Triumph   \n",
       "\n",
       "                                       Model Name  Model Year      State  \\\n",
       "0                Harley-Davidson 750cc or greater        2014  Tennessee   \n",
       "1  Nissan/Datsun Nissan/Datsun Pickup (1955-1997)        1994      Texas   \n",
       "2                                 Honda Ridgeline        2020    Florida   \n",
       "3                                 Honda Ridgeline        2020    Florida   \n",
       "4                               Triumph 450-749cc        2022   Maryland   \n",
       "\n",
       "           County  \n",
       "0    SHELBY (157)  \n",
       "1    HARRIS (201)  \n",
       "2     BREVARD (9)  \n",
       "3     BREVARD (9)  \n",
       "4  FREDERICK (21)  "
      ]
     },
     "execution_count": 40,
     "metadata": {},
     "output_type": "execute_result"
    }
   ],
   "source": [
    "Age_df.head()"
   ]
  },
  {
   "cell_type": "code",
   "execution_count": 41,
   "metadata": {},
   "outputs": [
    {
     "data": {
      "text/plain": [
       "0    57\n",
       "1    68\n",
       "2    72\n",
       "3    80\n",
       "4    43\n",
       "Name: Age, dtype: int64"
      ]
     },
     "execution_count": 41,
     "metadata": {},
     "output_type": "execute_result"
    }
   ],
   "source": [
    "Age.head()"
   ]
  },
  {
   "cell_type": "code",
   "execution_count": 42,
   "metadata": {},
   "outputs": [
    {
     "name": "stdout",
     "output_type": "stream",
     "text": [
      "Mean Age (NumPy) :68.58572604850062\n"
     ]
    }
   ],
   "source": [
    "# Calculating mean, median and mode\n",
    "mean_numpy =np.mean(Age)\n",
    "print(f\"Mean Age (NumPy) :{mean_numpy}\")"
   ]
  },
  {
   "cell_type": "code",
   "execution_count": 43,
   "metadata": {},
   "outputs": [
    {
     "name": "stdout",
     "output_type": "stream",
     "text": [
      "Median Age (NumPy) :35.0\n"
     ]
    }
   ],
   "source": [
    "median_numpy =np.median(Age)\n",
    "print(f\"Median Age (NumPy) :{median_numpy}\")"
   ]
  },
  {
   "cell_type": "code",
   "execution_count": 44,
   "metadata": {},
   "outputs": [
    {
     "name": "stdout",
     "output_type": "stream",
     "text": [
      "Mode Age (Scipy) :ModeResult(mode=21, count=5238)\n"
     ]
    }
   ],
   "source": [
    "mode_scipy = st.mode(Age)\n",
    "print(f\"Mode Age (Scipy) :{mode_scipy}\")"
   ]
  },
  {
   "cell_type": "code",
   "execution_count": 45,
   "metadata": {},
   "outputs": [
    {
     "name": "stdout",
     "output_type": "stream",
     "text": [
      "Variance Age (NumPy) :28349.79079309497\n"
     ]
    }
   ],
   "source": [
    "# Calculating the Variance and STandard deviation\n",
    "var_numpy = np.var(Age,ddof =0)\n",
    "print(f\"Variance Age (NumPy) :{var_numpy}\")"
   ]
  },
  {
   "cell_type": "code",
   "execution_count": 46,
   "metadata": {},
   "outputs": [
    {
     "name": "stdout",
     "output_type": "stream",
     "text": [
      "Standard Deviation Age (NumPy) :168.37396114926727\n"
     ]
    }
   ],
   "source": [
    "sd_numpy = np.std(Age,ddof = 0)\n",
    "print(f\"Standard Deviation Age (NumPy) :{sd_numpy}\")"
   ]
  },
  {
   "cell_type": "code",
   "execution_count": 47,
   "metadata": {},
   "outputs": [
    {
     "data": {
      "image/png": "[encoded data removed]",
      "text/plain": [
       "<Figure size 640x480 with 1 Axes>"
      ]
     },
     "metadata": {},
     "output_type": "display_data"
    },
    {
     "name": "stdout",
     "output_type": "stream",
     "text": [
      "NormaltestResult(statistic=109.85917371277587, pvalue=1.3943876739007909e-24)\n"
     ]
    }
   ],
   "source": [
    "plt.hist(Age)\n",
    "plt.xlabel(\"Age\")\n",
    "plt.ylabel(\"counts\")\n",
    "plt.show()\n",
    "print(st.normaltest(Age.sample(50)))"
   ]
  },
  {
   "cell_type": "code",
   "execution_count": 48,
   "metadata": {},
   "outputs": [
    {
     "data": {
      "image/png": "[encoded data removed]",
      "text/plain": [
       "<Figure size 640x480 with 1 Axes>"
      ]
     },
     "metadata": {},
     "output_type": "display_data"
    }
   ],
   "source": [
    "#Age Data to computes quantiles\n",
    "Age_df = pd.read_csv(\"Resources/People_Involved.csv\")\n",
    "Age = Age_df[\"Age\"]\n",
    "fig1, ax1 =plt.subplots()\n",
    "ax1.set_title(\"Age\") \n",
    "ax1.set_ylabel(\"Age\")\n",
    "ax1.boxplot(Age)\n",
    "plt.show()"
   ]
  },
  {
   "cell_type": "code",
   "execution_count": 49,
   "metadata": {},
   "outputs": [
    {
     "data": {
      "text/plain": [
       "0.25    23.0\n",
       "0.50    35.0\n",
       "0.75    55.0\n",
       "Name: Age, dtype: float64"
      ]
     },
     "execution_count": 49,
     "metadata": {},
     "output_type": "execute_result"
    }
   ],
   "source": [
    "Age.quantile([.25,.50,.75])"
   ]
  },
  {
   "cell_type": "code",
   "execution_count": 50,
   "metadata": {},
   "outputs": [
    {
     "name": "stdout",
     "output_type": "stream",
     "text": [
      "lower quartile of Age is: 23.0\n",
      "upper quartile of Age is: 55.0\n",
      "interquartile range of Age is: 32.0\n",
      "median of Age is 35.0\n",
      "values below -25.0 could be outliers.\n",
      "values above 103.0 could be outlier.\n"
     ]
    }
   ],
   "source": [
    "quartiles = Age.quantile([.25,.5,.75])\n",
    "lowerq = quartiles[0.25]\n",
    "upperq = quartiles[0.75]\n",
    "iqr = upperq-lowerq\n",
    "\n",
    "print(f\"lower quartile of Age is: {lowerq}\")\n",
    "print(f\"upper quartile of Age is: {upperq}\")\n",
    "print(f\"interquartile range of Age is: {iqr}\")\n",
    "print(f\"median of Age is {quartiles[0.5]}\")\n",
    "\n",
    "lower_bound = lowerq - (1.5*iqr)\n",
    "upper_bound = upperq + (1.5*iqr)\n",
    "print(f\"values below {lower_bound} could be outliers.\")\n",
    "print(f\"values above {upper_bound} could be outlier.\")\n",
    "\n",
    "\n"
   ]
  },
  {
   "cell_type": "code",
   "execution_count": 53,
   "metadata": {},
   "outputs": [
    {
     "data": {
      "text/html": [
       "<div>\n",
       "<style scoped>\n",
       "    .dataframe tbody tr th:only-of-type {\n",
       "        vertical-align: middle;\n",
       "    }\n",
       "\n",
       "    .dataframe tbody tr th {\n",
       "        vertical-align: top;\n",
       "    }\n",
       "\n",
       "    .dataframe thead th {\n",
       "        text-align: right;\n",
       "    }\n",
       "</style>\n",
       "<table border=\"1\" class=\"dataframe\">\n",
       "  <thead>\n",
       "    <tr style=\"text-align: right;\">\n",
       "      <th></th>\n",
       "      <th>Unnamed: 0</th>\n",
       "      <th>St Case Num</th>\n",
       "      <th>Age</th>\n",
       "      <th>Sex</th>\n",
       "      <th>Race</th>\n",
       "      <th>Seat Pos</th>\n",
       "      <th>AirBag Deployed</th>\n",
       "      <th>Is Fatal</th>\n",
       "      <th>Is Drug</th>\n",
       "      <th>Is Drunk</th>\n",
       "      <th>BAC</th>\n",
       "      <th>Case Date</th>\n",
       "      <th>Make Name</th>\n",
       "      <th>Model Name</th>\n",
       "      <th>Model Year</th>\n",
       "      <th>State</th>\n",
       "      <th>County</th>\n",
       "    </tr>\n",
       "  </thead>\n",
       "  <tbody>\n",
       "    <tr>\n",
       "      <th>6</th>\n",
       "      <td>6</td>\n",
       "      <td>130616</td>\n",
       "      <td>43</td>\n",
       "      <td>2</td>\n",
       "      <td>Black</td>\n",
       "      <td>Front Seat, Left Side</td>\n",
       "      <td>False</td>\n",
       "      <td>True</td>\n",
       "      <td>Not Reported</td>\n",
       "      <td>Not Reported</td>\n",
       "      <td>0.000 % BAC</td>\n",
       "      <td>2018-06-11</td>\n",
       "      <td>Honda</td>\n",
       "      <td>Honda Accord (Note: For Crosstour model years ...</td>\n",
       "      <td>1997</td>\n",
       "      <td>Georgia</td>\n",
       "      <td>THOMAS (275)</td>\n",
       "    </tr>\n",
       "    <tr>\n",
       "      <th>7</th>\n",
       "      <td>7</td>\n",
       "      <td>170825</td>\n",
       "      <td>25</td>\n",
       "      <td>1</td>\n",
       "      <td>Not a Fatality (not Applicable)</td>\n",
       "      <td>Front Seat, Left Side</td>\n",
       "      <td>True</td>\n",
       "      <td>False</td>\n",
       "      <td>Not Reported</td>\n",
       "      <td>No (Alcohol Not Involved)</td>\n",
       "      <td>Test Not Given</td>\n",
       "      <td>2018-11-03</td>\n",
       "      <td>Nissan/Datsun</td>\n",
       "      <td>Nissan/Datsun Pathfinder Armada</td>\n",
       "      <td>2018</td>\n",
       "      <td>Illinois</td>\n",
       "      <td>UNION (181)</td>\n",
       "    </tr>\n",
       "    <tr>\n",
       "      <th>8</th>\n",
       "      <td>8</td>\n",
       "      <td>170825</td>\n",
       "      <td>25</td>\n",
       "      <td>1</td>\n",
       "      <td>Not a Fatality (not Applicable)</td>\n",
       "      <td>Second Seat, Left Side</td>\n",
       "      <td>True</td>\n",
       "      <td>False</td>\n",
       "      <td>Not Reported</td>\n",
       "      <td>Not Reported</td>\n",
       "      <td>Test Not Given</td>\n",
       "      <td>2018-11-03</td>\n",
       "      <td>Nissan/Datsun</td>\n",
       "      <td>Nissan/Datsun Pathfinder Armada</td>\n",
       "      <td>2018</td>\n",
       "      <td>Illinois</td>\n",
       "      <td>UNION (181)</td>\n",
       "    </tr>\n",
       "    <tr>\n",
       "      <th>9</th>\n",
       "      <td>9</td>\n",
       "      <td>170825</td>\n",
       "      <td>47</td>\n",
       "      <td>1</td>\n",
       "      <td>Black</td>\n",
       "      <td>Front Seat, Right Side</td>\n",
       "      <td>True</td>\n",
       "      <td>True</td>\n",
       "      <td>Not Reported</td>\n",
       "      <td>Not Reported</td>\n",
       "      <td>0.000 % BAC</td>\n",
       "      <td>2018-11-03</td>\n",
       "      <td>Nissan/Datsun</td>\n",
       "      <td>Nissan/Datsun Pathfinder Armada</td>\n",
       "      <td>2018</td>\n",
       "      <td>Illinois</td>\n",
       "      <td>UNION (181)</td>\n",
       "    </tr>\n",
       "    <tr>\n",
       "      <th>10</th>\n",
       "      <td>10</td>\n",
       "      <td>63463</td>\n",
       "      <td>32</td>\n",
       "      <td>1</td>\n",
       "      <td>Not a Fatality (not Applicable)</td>\n",
       "      <td>Front Seat, Left Side</td>\n",
       "      <td>False</td>\n",
       "      <td>False</td>\n",
       "      <td>No (drugs not involved)</td>\n",
       "      <td>Yes (Alcohol Involved)</td>\n",
       "      <td>0.000 % BAC</td>\n",
       "      <td>2017-12-02</td>\n",
       "      <td>Other Make</td>\n",
       "      <td>Other Make Hino</td>\n",
       "      <td>2015</td>\n",
       "      <td>California</td>\n",
       "      <td>ALAMEDA (1)</td>\n",
       "    </tr>\n",
       "  </tbody>\n",
       "</table>\n",
       "</div>"
      ],
      "text/plain": [
       "    Unnamed: 0  St Case Num  Age  Sex                             Race  \\\n",
       "6            6       130616   43    2                            Black   \n",
       "7            7       170825   25    1  Not a Fatality (not Applicable)   \n",
       "8            8       170825   25    1  Not a Fatality (not Applicable)   \n",
       "9            9       170825   47    1                            Black   \n",
       "10          10        63463   32    1  Not a Fatality (not Applicable)   \n",
       "\n",
       "                  Seat Pos  AirBag Deployed  Is Fatal  \\\n",
       "6    Front Seat, Left Side            False      True   \n",
       "7    Front Seat, Left Side             True     False   \n",
       "8   Second Seat, Left Side             True     False   \n",
       "9   Front Seat, Right Side             True      True   \n",
       "10   Front Seat, Left Side            False     False   \n",
       "\n",
       "                    Is Drug                   Is Drunk             BAC  \\\n",
       "6              Not Reported               Not Reported     0.000 % BAC   \n",
       "7              Not Reported  No (Alcohol Not Involved)  Test Not Given   \n",
       "8              Not Reported               Not Reported  Test Not Given   \n",
       "9              Not Reported               Not Reported     0.000 % BAC   \n",
       "10  No (drugs not involved)     Yes (Alcohol Involved)     0.000 % BAC   \n",
       "\n",
       "     Case Date      Make Name  \\\n",
       "6   2018-06-11          Honda   \n",
       "7   2018-11-03  Nissan/Datsun   \n",
       "8   2018-11-03  Nissan/Datsun   \n",
       "9   2018-11-03  Nissan/Datsun   \n",
       "10  2017-12-02     Other Make   \n",
       "\n",
       "                                           Model Name  Model Year       State  \\\n",
       "6   Honda Accord (Note: For Crosstour model years ...        1997     Georgia   \n",
       "7                     Nissan/Datsun Pathfinder Armada        2018    Illinois   \n",
       "8                     Nissan/Datsun Pathfinder Armada        2018    Illinois   \n",
       "9                     Nissan/Datsun Pathfinder Armada        2018    Illinois   \n",
       "10                                    Other Make Hino        2015  California   \n",
       "\n",
       "          County  \n",
       "6   THOMAS (275)  \n",
       "7    UNION (181)  \n",
       "8    UNION (181)  \n",
       "9    UNION (181)  \n",
       "10   ALAMEDA (1)  "
      ]
     },
     "execution_count": 53,
     "metadata": {},
     "output_type": "execute_result"
    }
   ],
   "source": [
    "# Import the data set\n",
    "wdi_data = pd.read_csv(\"Resources/People_Involved.csv\")\n",
    "wdi_data = wdi_data.dropna()\n",
    "wdi_data.head()"
   ]
  },
  {
   "cell_type": "code",
   "execution_count": 54,
   "metadata": {},
   "outputs": [
    {
     "data": {
      "image/png": "[encoded data removed]",
      "text/plain": [
       "<Figure size 640x480 with 1 Axes>"
      ]
     },
     "metadata": {},
     "output_type": "display_data"
    }
   ],
   "source": [
    "# Determine the correlation between Age factor and Is Fatal\n",
    "plt.scatter(wdi_data.iloc[:,2],wdi_data.iloc[:,7])\n",
    "plt.xlabel(\"Age\")\n",
    "plt.ylabel(\"Is Fatal\")\n",
    "plt.show()"
   ]
  },
  {
   "cell_type": "code",
   "execution_count": 62,
   "metadata": {},
   "outputs": [
    {
     "data": {
      "image/png": "[encoded data removed]",
      "text/plain": [
       "<Figure size 640x480 with 1 Axes>"
      ]
     },
     "metadata": {},
     "output_type": "display_data"
    }
   ],
   "source": [
    "plt.scatter(wdi_data.iloc[:,3],wdi_data.iloc[:,6])\n",
    "plt.xlabel(\"Sex\")\n",
    "plt.ylabel(\"AirBag Deployed\")\n",
    "plt.show()"
   ]
  },
  {
   "cell_type": "code",
   "execution_count": 58,
   "metadata": {},
   "outputs": [
    {
     "data": {
      "image/png": "[encoded data removed]",
      "text/plain": [
       "<Figure size 640x480 with 1 Axes>"
      ]
     },
     "metadata": {},
     "output_type": "display_data"
    }
   ],
   "source": [
    "plt.scatter(wdi_data.iloc[:,4],wdi_data.iloc[:,8])\n",
    "plt.xlabel(\"Race\")\n",
    "plt.ylabel(\"Is Drug\")\n",
    "plt.show()"
   ]
  },
  {
   "cell_type": "code",
   "execution_count": 59,
   "metadata": {},
   "outputs": [
    {
     "name": "stdout",
     "output_type": "stream",
     "text": [
      "correlation between Age and IsFatal is -0.12\n"
     ]
    }
   ],
   "source": [
    "# Testing the correlation between Age and Is Fatal\n",
    "Age = wdi_data.iloc[:,2]\n",
    "IsFatal = wdi_data.iloc[:,7]\n",
    "correlation = st.pearsonr(Age,IsFatal)\n",
    "print(f\"correlation between Age and IsFatal is {round(correlation[0],2)}\")"
   ]
  },
  {
   "cell_type": "code",
   "execution_count": 63,
   "metadata": {},
   "outputs": [
    {
     "name": "stdout",
     "output_type": "stream",
     "text": [
      "correlation between Sex and AirBagDeployed is 0.15\n"
     ]
    }
   ],
   "source": [
    "Sex = wdi_data.iloc[:,3]\n",
    "AirBagDeployed = wdi_data.iloc[:,6]\n",
    "correlation = st.pearsonr(Sex,AirBagDeployed)\n",
    "print(f\"correlation between Sex and AirBagDeployed is {round(correlation[0],2)}\")\n"
   ]
  },
  {
   "cell_type": "code",
   "execution_count": 66,
   "metadata": {},
   "outputs": [
    {
     "ename": "TypeError",
     "evalue": "unsupported operand type(s) for +: 'float' and 'str'",
     "output_type": "error",
     "traceback": [
      "\u001b[1;31m---------------------------------------------------------------------------\u001b[0m",
      "\u001b[1;31mTypeError\u001b[0m                                 Traceback (most recent call last)",
      "\u001b[1;32m~\\AppData\\Local\\Temp\\ipykernel_109172\\3433491815.py\u001b[0m in \u001b[0;36m?\u001b[1;34m()\u001b[0m\n\u001b[0;32m      1\u001b[0m \u001b[0mRace\u001b[0m \u001b[1;33m=\u001b[0m \u001b[0mwdi_data\u001b[0m\u001b[1;33m.\u001b[0m\u001b[0miloc\u001b[0m\u001b[1;33m[\u001b[0m\u001b[1;33m:\u001b[0m\u001b[1;33m,\u001b[0m\u001b[1;36m4\u001b[0m\u001b[1;33m]\u001b[0m\u001b[1;33m\u001b[0m\u001b[1;33m\u001b[0m\u001b[0m\n\u001b[0;32m      2\u001b[0m \u001b[0mIsDrug\u001b[0m \u001b[1;33m=\u001b[0m \u001b[0mwdi_data\u001b[0m\u001b[1;33m.\u001b[0m\u001b[0miloc\u001b[0m\u001b[1;33m[\u001b[0m\u001b[1;33m:\u001b[0m\u001b[1;33m,\u001b[0m\u001b[1;36m8\u001b[0m\u001b[1;33m]\u001b[0m\u001b[1;33m\u001b[0m\u001b[1;33m\u001b[0m\u001b[0m\n\u001b[1;32m----> 3\u001b[1;33m \u001b[0mcorrelation\u001b[0m \u001b[1;33m=\u001b[0m \u001b[0mst\u001b[0m\u001b[1;33m.\u001b[0m\u001b[0mpearsonr\u001b[0m\u001b[1;33m(\u001b[0m\u001b[0mRace\u001b[0m\u001b[1;33m,\u001b[0m\u001b[0mIsDrug\u001b[0m\u001b[1;33m)\u001b[0m\u001b[1;33m\u001b[0m\u001b[1;33m\u001b[0m\u001b[0m\n\u001b[0m\u001b[0;32m      4\u001b[0m \u001b[0mprint\u001b[0m\u001b[1;33m(\u001b[0m\u001b[1;34mf\"correlation between Race and IsDrug is {round(correlation[0],2)}\"\u001b[0m\u001b[1;33m)\u001b[0m\u001b[1;33m\u001b[0m\u001b[1;33m\u001b[0m\u001b[0m\n",
      "\u001b[1;32mc:\\Users\\ayeni\\anaconda3\\envs\\dev\\lib\\site-packages\\scipy\\stats\\_stats_py.py\u001b[0m in \u001b[0;36m?\u001b[1;34m(x, y, alternative, method)\u001b[0m\n\u001b[0;32m   4773\u001b[0m \u001b[1;33m\u001b[0m\u001b[0m\n\u001b[0;32m   4774\u001b[0m     \u001b[1;31m# dtype is the data type for the calculations.  This expression ensures\u001b[0m\u001b[1;33m\u001b[0m\u001b[1;33m\u001b[0m\u001b[0m\n\u001b[0;32m   4775\u001b[0m     \u001b[1;31m# that the data type is at least 64 bit floating point.  It might have\u001b[0m\u001b[1;33m\u001b[0m\u001b[1;33m\u001b[0m\u001b[0m\n\u001b[0;32m   4776\u001b[0m     \u001b[1;31m# more precision if the input is, for example, np.longdouble.\u001b[0m\u001b[1;33m\u001b[0m\u001b[1;33m\u001b[0m\u001b[0m\n\u001b[1;32m-> 4777\u001b[1;33m     \u001b[0mdtype\u001b[0m \u001b[1;33m=\u001b[0m \u001b[0mtype\u001b[0m\u001b[1;33m(\u001b[0m\u001b[1;36m1.0\u001b[0m \u001b[1;33m+\u001b[0m \u001b[0mx\u001b[0m\u001b[1;33m[\u001b[0m\u001b[1;36m0\u001b[0m\u001b[1;33m]\u001b[0m \u001b[1;33m+\u001b[0m \u001b[0my\u001b[0m\u001b[1;33m[\u001b[0m\u001b[1;36m0\u001b[0m\u001b[1;33m]\u001b[0m\u001b[1;33m)\u001b[0m\u001b[1;33m\u001b[0m\u001b[1;33m\u001b[0m\u001b[0m\n\u001b[0m\u001b[0;32m   4778\u001b[0m \u001b[1;33m\u001b[0m\u001b[0m\n\u001b[0;32m   4779\u001b[0m     \u001b[1;32mif\u001b[0m \u001b[0mn\u001b[0m \u001b[1;33m==\u001b[0m \u001b[1;36m2\u001b[0m\u001b[1;33m:\u001b[0m\u001b[1;33m\u001b[0m\u001b[1;33m\u001b[0m\u001b[0m\n\u001b[0;32m   4780\u001b[0m         \u001b[0mr\u001b[0m \u001b[1;33m=\u001b[0m \u001b[0mdtype\u001b[0m\u001b[1;33m(\u001b[0m\u001b[0mnp\u001b[0m\u001b[1;33m.\u001b[0m\u001b[0msign\u001b[0m\u001b[1;33m(\u001b[0m\u001b[0mx\u001b[0m\u001b[1;33m[\u001b[0m\u001b[1;36m1\u001b[0m\u001b[1;33m]\u001b[0m \u001b[1;33m-\u001b[0m \u001b[0mx\u001b[0m\u001b[1;33m[\u001b[0m\u001b[1;36m0\u001b[0m\u001b[1;33m]\u001b[0m\u001b[1;33m)\u001b[0m\u001b[1;33m*\u001b[0m\u001b[0mnp\u001b[0m\u001b[1;33m.\u001b[0m\u001b[0msign\u001b[0m\u001b[1;33m(\u001b[0m\u001b[0my\u001b[0m\u001b[1;33m[\u001b[0m\u001b[1;36m1\u001b[0m\u001b[1;33m]\u001b[0m \u001b[1;33m-\u001b[0m \u001b[0my\u001b[0m\u001b[1;33m[\u001b[0m\u001b[1;36m0\u001b[0m\u001b[1;33m]\u001b[0m\u001b[1;33m)\u001b[0m\u001b[1;33m)\u001b[0m\u001b[1;33m\u001b[0m\u001b[1;33m\u001b[0m\u001b[0m\n",
      "\u001b[1;31mTypeError\u001b[0m: unsupported operand type(s) for +: 'float' and 'str'"
     ]
    }
   ],
   "source": [
    "Race = wdi_data.iloc[:,4]\n",
    "IsDrug = wdi_data.iloc[:,8]\n",
    "correlation = st.pearsonr(Race,IsDrug)\n",
    "print(f\"correlation between Race and IsDrug is {round(correlation[0],2)}\")"
   ]
  }
 ],
 "metadata": {
  "kernelspec": {
   "display_name": "dev",
   "language": "python",
   "name": "python3"
  },
  "language_info": {
   "codemirror_mode": {
    "name": "ipython",
    "version": 3
   },
   "file_extension": ".py",
   "mimetype": "text/x-python",
   "name": "python",
   "nbconvert_exporter": "python",
   "pygments_lexer": "ipython3",
   "version": "3.10.13"
  }
 },
 "nbformat": 4,
 "nbformat_minor": 2
}

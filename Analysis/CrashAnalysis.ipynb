{
 "cells": [
  {
   "cell_type": "code",
   "execution_count": null,
   "metadata": {},
   "outputs": [],
   "source": [
    "# Imports for data analysis\n",
    "import pandas as pd\n",
    "import requests\n",
    "import matplotlib.pyplot as plt\n",
    "import numpy as np\n",
    "from scipy import stats as st\n",
    "from datetime import datetime\n",
    "import seaborn as sns\n",
    "from pprint import pprint\n"
   ]
  },
  {
   "cell_type": "code",
   "execution_count": null,
   "metadata": {},
   "outputs": [],
   "source": [
    "# read csv\n",
    "df_ppl_involved = pd.read_csv(\"../Resources/People_Involved.csv\")\n",
    "df_ppl_involved = df_ppl_involved.sort_values(by = \"Case Date\")\n",
    "df_ppl_involved = df_ppl_involved.drop(\"Unnamed: 0\", axis= 1)\n",
    "df_ppl_involved.head()"
   ]
  },
  {
   "cell_type": "code",
   "execution_count": null,
   "metadata": {},
   "outputs": [],
   "source": [
    "#check length of csv\n",
    "len(df_ppl_involved)"
   ]
  },
  {
   "cell_type": "code",
   "execution_count": null,
   "metadata": {},
   "outputs": [],
   "source": [
    "df_ppl_involved[\"Case Year\"] = df_ppl_involved[\"Case Date\"].apply(lambda x: datetime.strptime(x, '%Y-%m-%d').strftime(\"%Y\"))\n",
    "df_ppl_involved.head()"
   ]
  },
  {
   "cell_type": "code",
   "execution_count": null,
   "metadata": {},
   "outputs": [],
   "source": [
    "print(len(df_ppl_involved.groupby([\"Case Year\", \"St Case Num\", \"State\"])))"
   ]
  },
  {
   "cell_type": "markdown",
   "metadata": {},
   "source": [
    "<h1>1. Gender Analysis</h1>"
   ]
  },
  {
   "cell_type": "code",
   "execution_count": null,
   "metadata": {},
   "outputs": [],
   "source": [
    "#checking values\n",
    "df_ppl_involved[\"Sex\"].value_counts()"
   ]
  },
  {
   "cell_type": "code",
   "execution_count": null,
   "metadata": {},
   "outputs": [],
   "source": [
    "# remove the unknown and weird numbers\n",
    "df_ppl_involved = df_ppl_involved[(df_ppl_involved[\"Sex\"] == 1) | (df_ppl_involved[\"Sex\"] == 2)]\n",
    "\n",
    "#convert sex names to actual names, male = 1, female = 2\n",
    "df_ppl_involved.loc[:, \"Sex\"] = df_ppl_involved[\"Sex\"].replace({1: \"Male\", 2: \"Female\"})\n",
    "df_ppl_involved.head()"
   ]
  },
  {
   "cell_type": "markdown",
   "metadata": {},
   "source": [
    "<h3>1a. Fatality Pie Chart by Sex</h3>"
   ]
  },
  {
   "cell_type": "code",
   "execution_count": null,
   "metadata": {},
   "outputs": [],
   "source": [
    "#Get the number of fatal cases of males and females \n",
    "num_fatal_male = len(df_ppl_involved[(df_ppl_involved[\"Sex\"] == \"Male\") & (df_ppl_involved[\"Is Fatal\"] == True)])\n",
    "num_fatal_female = len(df_ppl_involved[(df_ppl_involvednvolved[\"Sex\"] == \"Female\") & (df_ppl_involved[\"Is Fatal\"] == True)])\n",
    "\n",
    "labels = [\"Male\", \"Female\"]\n",
    "values = [num_fatal_male, num_fatal_female]\n",
    "explode = [0.05, 0.05]\n",
    "\n",
    "plt.pie(values, labels=labels, autopct=\"%.2f%%\", explode= explode)\n",
    "plt.title(\"All Fatalities by Sex\")\n",
    "plt.show()"
   ]
  },
  {
   "cell_type": "markdown",
   "metadata": {},
   "source": [
    "<h3>1b. Fatality Rate Per Sex Category</h3>"
   ]
  },
  {
   "cell_type": "code",
   "execution_count": null,
   "metadata": {},
   "outputs": [],
   "source": [
    "# Total number of female and male\n",
    "num_female = len(df_ppl_involved[df_ppl_involved[\"Sex\"]== \"Female\"])\n",
    "num_male = len(df_ppl_involved[df_ppl_involved[\"Sex\"] == \"Male\"])\n",
    "\n",
    "# Male and female fatality rates\n",
    "fatality_rate_male = num_fatal_male/num_male\n",
    "fatality_rate_female = num_fatal_female/num_female\n",
    "\n",
    "# labels for bar graph\n",
    "x_labels = [\"Male\", \"Female\"]\n",
    "fatality_rates = [fatality_rate_male, fatality_rate_female]\n",
    "\n",
    "#plot the graphs\n",
    "plt.bar(x_labels, fatality_rates, color = [\"Blue\", \"Red\"])\n",
    "plt.title(\"Fatality Rate Per Sex Category\")\n",
    "plt.ylabel(\"Fatality Rate\")\n",
    "plt.xlabel(\"Sex\")\n",
    "plt.ylim(0, .7)\n",
    "# add percent labels\n",
    "for idx, data in enumerate(fatality_rates):\n",
    "    plt.text(idx, data, f'{data*100:.2f}%', ha = \"center\", va = \"bottom\")\n",
    "\n",
    "plt.show()\n"
   ]
  },
  {
   "cell_type": "code",
   "execution_count": null,
   "metadata": {},
   "outputs": [],
   "source": [
    "#Check Race Values\n",
    "print(df_ppl_involved[\"Race\"].value_counts())\n",
    "df_ppl_involved[\"Race\"].isna().sum()"
   ]
  },
  {
   "cell_type": "markdown",
   "metadata": {},
   "source": [
    "A lot of the races are NaN. Not useful data."
   ]
  },
  {
   "cell_type": "markdown",
   "metadata": {},
   "source": [
    "<h1>2. SEAT POSITION ANALYSIS </h1>\n"
   ]
  },
  {
   "cell_type": "code",
   "execution_count": null,
   "metadata": {},
   "outputs": [],
   "source": [
    "#checking values \n",
    "df_ppl_involved[\"Seat Pos\"].value_counts()\n",
    "\n",
    "#only keeps the ones that have a lot of data\n",
    "df_seat_pos = df_ppl_involved[(df_ppl_involved[\"Seat Pos\"] == \"Front Seat, Left Side\")|\n",
    "                        (df_ppl_involved[\"Seat Pos\"] == \"Front Seat, Right Side\")|\n",
    "                        (df_ppl_involved[\"Seat Pos\"] == \"Second Seat, Left Side\")|\n",
    "                        (df_ppl_involved[\"Seat Pos\"] == \"Second Seat, Right Side\")|\n",
    "                        (df_ppl_involved[\"Seat Pos\"] == \"Second Seat, Middle\")\n",
    "                       ][[\"Seat Pos\",\"Is Fatal\"]].copy()\n",
    "df_seat_pos.head()"
   ]
  },
  {
   "cell_type": "markdown",
   "metadata": {},
   "source": [
    "<h3> 2a. Fatality vs. Seat Position </h3>"
   ]
  },
  {
   "cell_type": "markdown",
   "metadata": {},
   "source": [
    "<h4>Stacked Bar Graph Fatal/Non-fatal and Seat Position</h4>"
   ]
  },
  {
   "cell_type": "code",
   "execution_count": null,
   "metadata": {},
   "outputs": [],
   "source": [
    "#x labels for bar plot\n",
    "x_labels = df_seat_pos[\"Seat Pos\"].unique()\n",
    "x_labels.sort()\n",
    "\n",
    "#get the counts of fatal and non fatal for each seat position\n",
    "y_data = {\n",
    "    \"Fatal\": [len(df_seat_pos[(df_seat_pos[\"Seat Pos\"] == pos) & (df_seat_pos[\"Is Fatal\"] == True)]) for pos in x_labels],\n",
    "    \"Non-Fatal\": [len(df_seat_pos[(df_seat_pos[\"Seat Pos\"] == pos) & (df_seat_pos[\"Is Fatal\"] == False)]) for pos in x_labels]\n",
    "}\n",
    "\n",
    "width = 0.5\n",
    "fig, ax = plt.subplots()\n",
    "bottom = np.zeros(5)\n",
    "\n",
    "for boolean, counts in y_data.items():\n",
    "    ax.bar(x_labels, counts, width, label = boolean, bottom = bottom)\n",
    "    bottom += counts\n",
    "\n",
    "plt.xticks(rotation = 45, ha='right')\n",
    "plt.title(\"Fatality vs. Seat Positions\")\n",
    "plt.legend(loc = \"upper right\")\n",
    "plt.show()\n"
   ]
  },
  {
   "cell_type": "markdown",
   "metadata": {},
   "source": [
    "<h4>Pie Chart Comparing Proportions of Fatality For Each Seat Position</h4>"
   ]
  },
  {
   "cell_type": "code",
   "execution_count": null,
   "metadata": {},
   "outputs": [],
   "source": [
    "#xlabels for pie chart\n",
    "x_labels = df_seat_pos[\"Seat Pos\"].unique()\n",
    "x_labels.sort()\n",
    "\n",
    "#get the counts of fatal for each seat position and the total\n",
    "fatals = [len(df_seat_pos[(df_seat_pos[\"Seat Pos\"] == pos) & (df_seat_pos[\"Is Fatal\"] == True)]) for pos in x_labels]\n",
    "totals = [len(df_seat_pos[df_seat_pos[\"Seat Pos\"] == pos]) for pos in x_labels]\n",
    "\n",
    "#get the fatality proportions for each seat positions\n",
    "fatal_proportions = [fatal/total for fatal, total in zip(fatals, totals)]\n",
    "\n",
    "#plot the chart\n",
    "plt.bar(x_labels, fatal_proportions)\n",
    "plt.title(\"Fatality Percentages per Seat Positions\")\n",
    "plt.xticks(x_labels, rotation = 45, ha = \"right\")\n",
    "plt.xlabel(\"Seat Position\")\n",
    "plt.ylabel(\"Fatality Rate\")\n",
    "\n",
    "# Add labels on bars\n",
    "for i, value in enumerate(fatal_proportions):\n",
    "    plt.text(i, value, f'{value*100:.2f}%', ha='center',va='bottom')\n",
    "\n",
    "plt.show()\n",
    "\n"
   ]
  },
  {
   "cell_type": "markdown",
   "metadata": {},
   "source": [
    "<h3>2b. Chisquare Test of Homogeneity for Proportions</h3>"
   ]
  },
  {
   "cell_type": "code",
   "execution_count": null,
   "metadata": {},
   "outputs": [],
   "source": [
    "# Here, we want to see if the proportion of survival/fatality rates are the same.\n",
    "# Null hypothesis: The Fatality rate is the same across the different seat positions\n",
    "# Alternate Hypothesis: The Fatality rate is different across the different seat positions\n",
    "\n",
    "observed = [\n",
    "    y_data[\"Fatal\"],\n",
    "    y_data[\"Non-Fatal\"]\n",
    "]\n",
    "\n",
    "results = st.chi2_contingency(observed)\n",
    "print(f\"The expected value table is: \", results.expected_freq)\n",
    "print(f\"The p value is: \", results.pvalue)\n",
    "\n",
    "# plt.figure(figsize=(8, 6))  # Adjust the figure size as needed\n",
    "# sns.heatmap(observed, annot=True, cmap=\"YlGnBu\", fmt=\"d\")  # d for integer formatting in annotations\n",
    "# plt.title(\"Contingency Table Heatmap\")\n",
    "# plt.xlabel(\"Columns\")  # Label for the x-axis\n",
    "# plt.ylabel(\"Rows\")  # Label for the y-axis\n",
    "# plt.show()\n"
   ]
  },
  {
   "cell_type": "markdown",
   "metadata": {},
   "source": [
    "<h4>Because the p value is 0, we can reject the null hypothesis and use our data as evidence that the survival rate is different across the different seat positions</h4>"
   ]
  },
  {
   "cell_type": "markdown",
   "metadata": {},
   "source": [
    "<h3>2c. Pairwise comparision of Fatality rates across all seat positions, Two Proportion Z Test</h3>"
   ]
  },
  {
   "cell_type": "code",
   "execution_count": null,
   "metadata": {},
   "outputs": [],
   "source": [
    "from statsmodels.stats.proportion import proportions_ztest\n",
    "#seat_labels\n",
    "seat_labels = df_seat_pos[\"Seat Pos\"].unique()\n",
    "seat_labels.sort()\n",
    "\n",
    "#get the counts of fatal and non fatal for each seat position\n",
    "y_data = {\n",
    "    \"Fatal\": [len(df_seat_pos[(df_seat_pos[\"Seat Pos\"] == pos) & (df_seat_pos[\"Is Fatal\"] == True)]) for pos in seat_labels],\n",
    "    \"Non-Fatal\": [len(df_seat_pos[(df_seat_pos[\"Seat Pos\"] == pos) & (df_seat_pos[\"Is Fatal\"] == False)]) for pos in seat_labels]\n",
    "}\n",
    "\n",
    "fatal_data = y_data[\"Fatal\"]\n",
    "non_fatal_data = y_data[\"Non-Fatal\"]\n",
    "\n",
    "row_comparisons = []\n",
    "for i in range(len(fatal_data) - 1):\n",
    "    comparisons = [-1 for i in range(len(fatal_data) - 1)]\n",
    "    for j in range(i + 1, len(fatal_data)):\n",
    "\n",
    "        # counts of 'success' for first seat position\n",
    "        nob1 = fatal_data[i] + non_fatal_data[i]\n",
    "        p1_counts = fatal_data[i]\n",
    "\n",
    "        # counts of 'success' for second seat position\n",
    "        nob2 = fatal_data[j] + non_fatal_data[j]\n",
    "        p2_counts = fatal_data[j]\n",
    "\n",
    "        # combined the successes in the seat positions\n",
    "        nobs = np.asarray([nob1, nob2])\n",
    "        counts = np.asarray([p1_counts, p2_counts])\n",
    "\n",
    "        # perform 2 proportion z test\n",
    "        stat, pval = proportions_ztest(counts, nobs)\n",
    "\n",
    "        # store the pvalue in the array\n",
    "        comparisons[j - 1] = pval\n",
    "    \n",
    "    row_comparisons.append(comparisons)\n",
    "\n",
    "fig = plt.figure(figsize= (8, 6))\n",
    "\n",
    "sns.heatmap(row_comparisons, annot = True, cmap=\"YlGnBu\")\n",
    "plt.title(\"Fatality Proportion Pairwise Comparison P-Values\")\n",
    "plt.xlabel(\"Seat Position\")\n",
    "plt.xticks([x+.5 for x in range(4)], seat_labels[1:], rotation = 45)\n",
    "plt.ylabel(\"Seat Position\")\n",
    "plt.yticks([x + .5 for x in range(4)], seat_labels[:-1], rotation = 45)\n",
    "plt.show()\n",
    "\n",
    "\n"
   ]
  },
  {
   "cell_type": "markdown",
   "metadata": {},
   "source": [
    "<h1>3. General Fatality Trends</h1>"
   ]
  },
  {
   "cell_type": "markdown",
   "metadata": {},
   "source": [
    "1a. Fatal cases over time."
   ]
  },
  {
   "cell_type": "code",
   "execution_count": null,
   "metadata": {},
   "outputs": [],
   "source": []
  }
 ],
 "metadata": {
  "kernelspec": {
   "display_name": "Python 3",
   "language": "python",
   "name": "python3"
  },
  "language_info": {
   "codemirror_mode": {
    "name": "ipython",
    "version": 3
   },
   "file_extension": ".py",
   "mimetype": "text/x-python",
   "name": "python",
   "nbconvert_exporter": "python",
   "pygments_lexer": "ipython3",
   "version": "3.10.13"
  },
  "orig_nbformat": 4
 },
 "nbformat": 4,
 "nbformat_minor": 2
}

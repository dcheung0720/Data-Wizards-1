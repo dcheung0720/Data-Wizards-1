{
 "cells": [
  {
   "cell_type": "code",
   "execution_count": 2,
   "metadata": {},
   "outputs": [],
   "source": [
    "import pandas as pd\n",
    "from datetime import datetime\n",
    "import requests\n",
    "import re"
   ]
  },
  {
   "cell_type": "markdown",
   "metadata": {},
   "source": [
    "<h3>1. Filtering out 2017 data</h3>"
   ]
  },
  {
   "cell_type": "code",
   "execution_count": 7,
   "metadata": {},
   "outputs": [],
   "source": [
    "# Displaying some Crash List Data\n",
    "df_crash_list = pd.read_csv(\"../Resources/CrashList.csv\",index_col=0)\n",
    "df_crash_list = df_crash_list[df_crash_list[\"CrashDate\"].apply(lambda x : datetime.strptime(x, \"%Y-%m-%d %H:%M:%S\").strftime(\"%Y\")) != \"2017\"]"
   ]
  },
  {
   "cell_type": "markdown",
   "metadata": {},
   "source": [
    "<h3>2. Latitude and Longitude of each unique (county and state)</h3>"
   ]
  },
  {
   "cell_type": "code",
   "execution_count": null,
   "metadata": {},
   "outputs": [],
   "source": [
    "# Get rid of parentheses and the content in them with regular expression\n",
    "df_locations_fatalities = df_crash_list[[\"CountyName\", \"StateName\", \"Fatals\"]].copy()\n",
    "df_locations_fatalities[\"CountyName\"] = df_locations_fatalities[\"CountyName\"].apply(lambda x: re.sub(r'\\([^)]*\\)', '', x))\n",
    "df_locations_fatalities.head()"
   ]
  },
  {
   "cell_type": "code",
   "execution_count": null,
   "metadata": {},
   "outputs": [],
   "source": [
    "# Find longitude and latitude of each state and county\n",
    "df_fatalities_by_loc = df_locations_fatalities.groupby([\"CountyName\", \"StateName\"]).count()\n",
    "\n",
    "# Convert it back to DF\n",
    "df_fatalities_by_loc = df_fatalities_by_loc.reset_index()\n",
    "\n",
    "\n",
    "# For each unique location, find longitude and latitude using geoapify\n",
    "for idx, location in df_fatalities_by_loc.iterrows():\n",
    "\n",
    "    base_url = \"https://api.geoapify.com/v1/geocode/search?\"\n",
    "    \n",
    "    county = location[\"CountyName\"]\n",
    "    state = location[\"StateName\"]\n",
    "    \n",
    "    params = {\n",
    "        \"text\": f\"{county}, {state}\",\n",
    "        \"apiKey\": \"\"\n",
    "    }\n",
    "\n",
    "    try:\n",
    "        res = requests.get(base_url, params=params)\n",
    "        data = res.json()\n",
    "\n",
    "        properties = data[\"features\"][0][\"properties\"]\n",
    "\n",
    "        lat = properties[\"lat\"]\n",
    "        lon = properties[\"lon\"]\n",
    "        \n",
    "        df_fatalities_by_loc.at[idx, \"lat\"] = lat\n",
    "        df_fatalities_by_loc.at[idx, \"long\"] = lon\n",
    "    except Exception as e:\n",
    "        print(\"Oh no, we ran into a problem:\", e)\n",
    "\n",
    "df_fatalities_by_loc\n",
    "\n"
   ]
  },
  {
   "cell_type": "code",
   "execution_count": null,
   "metadata": {},
   "outputs": [],
   "source": [
    "#Save as CSV\n",
    "df_fatalities_by_loc.to_csv(\"../Resources/County_State_Fatalities_18-19.csv\")"
   ]
  },
  {
   "cell_type": "markdown",
   "metadata": {},
   "source": [
    "<h3>3. Converting Excel Population Data to CSV</h3>"
   ]
  },
  {
   "cell_type": "code",
   "execution_count": 3,
   "metadata": {},
   "outputs": [],
   "source": [
    "xlsx = pd.read_excel(\"../Resources/population.xlsx\").to_csv(\"../Resources/population.csv\")"
   ]
  },
  {
   "cell_type": "code",
   "execution_count": 32,
   "metadata": {},
   "outputs": [
    {
     "data": {
      "text/html": [
       "<div>\n",
       "<style scoped>\n",
       "    .dataframe tbody tr th:only-of-type {\n",
       "        vertical-align: middle;\n",
       "    }\n",
       "\n",
       "    .dataframe tbody tr th {\n",
       "        vertical-align: top;\n",
       "    }\n",
       "\n",
       "    .dataframe thead th {\n",
       "        text-align: right;\n",
       "    }\n",
       "</style>\n",
       "<table border=\"1\" class=\"dataframe\">\n",
       "  <thead>\n",
       "    <tr style=\"text-align: right;\">\n",
       "      <th></th>\n",
       "      <th>State</th>\n",
       "      <th>County</th>\n",
       "      <th>Base Estimate</th>\n",
       "      <th>2020</th>\n",
       "      <th>2021</th>\n",
       "      <th>2022</th>\n",
       "    </tr>\n",
       "  </thead>\n",
       "  <tbody>\n",
       "    <tr>\n",
       "      <th>0</th>\n",
       "      <td>Alabama</td>\n",
       "      <td>Autauga</td>\n",
       "      <td>58802</td>\n",
       "      <td>58902</td>\n",
       "      <td>59210.0</td>\n",
       "      <td>59759.0</td>\n",
       "    </tr>\n",
       "    <tr>\n",
       "      <th>1</th>\n",
       "      <td>Alabama</td>\n",
       "      <td>Baldwin</td>\n",
       "      <td>231761</td>\n",
       "      <td>233219</td>\n",
       "      <td>239361.0</td>\n",
       "      <td>246435.0</td>\n",
       "    </tr>\n",
       "    <tr>\n",
       "      <th>2</th>\n",
       "      <td>Alabama</td>\n",
       "      <td>Barbour</td>\n",
       "      <td>25224</td>\n",
       "      <td>24960</td>\n",
       "      <td>24539.0</td>\n",
       "      <td>24706.0</td>\n",
       "    </tr>\n",
       "    <tr>\n",
       "      <th>3</th>\n",
       "      <td>Alabama</td>\n",
       "      <td>Bibb</td>\n",
       "      <td>22300</td>\n",
       "      <td>22183</td>\n",
       "      <td>22370.0</td>\n",
       "      <td>22005.0</td>\n",
       "    </tr>\n",
       "    <tr>\n",
       "      <th>4</th>\n",
       "      <td>Alabama</td>\n",
       "      <td>Blount</td>\n",
       "      <td>59130</td>\n",
       "      <td>59102</td>\n",
       "      <td>59085.0</td>\n",
       "      <td>59512.0</td>\n",
       "    </tr>\n",
       "    <tr>\n",
       "      <th>5</th>\n",
       "      <td>Alabama</td>\n",
       "      <td>Bullock</td>\n",
       "      <td>10362</td>\n",
       "      <td>10296</td>\n",
       "      <td>10280.0</td>\n",
       "      <td>10202.0</td>\n",
       "    </tr>\n",
       "    <tr>\n",
       "      <th>6</th>\n",
       "      <td>Alabama</td>\n",
       "      <td>Butler</td>\n",
       "      <td>19055</td>\n",
       "      <td>19031</td>\n",
       "      <td>18855.0</td>\n",
       "      <td>18650.0</td>\n",
       "    </tr>\n",
       "    <tr>\n",
       "      <th>7</th>\n",
       "      <td>Alabama</td>\n",
       "      <td>Calhoun</td>\n",
       "      <td>116444</td>\n",
       "      <td>116239</td>\n",
       "      <td>115677.0</td>\n",
       "      <td>115788.0</td>\n",
       "    </tr>\n",
       "    <tr>\n",
       "      <th>8</th>\n",
       "      <td>Alabama</td>\n",
       "      <td>Chambers</td>\n",
       "      <td>34774</td>\n",
       "      <td>34645</td>\n",
       "      <td>34446.0</td>\n",
       "      <td>34088.0</td>\n",
       "    </tr>\n",
       "    <tr>\n",
       "      <th>9</th>\n",
       "      <td>Alabama</td>\n",
       "      <td>Cherokee</td>\n",
       "      <td>24979</td>\n",
       "      <td>24972</td>\n",
       "      <td>25026.0</td>\n",
       "      <td>25302.0</td>\n",
       "    </tr>\n",
       "  </tbody>\n",
       "</table>\n",
       "</div>"
      ],
      "text/plain": [
       "      State    County Base Estimate    2020      2021      2022\n",
       "0   Alabama   Autauga         58802   58902   59210.0   59759.0\n",
       "1   Alabama   Baldwin        231761  233219  239361.0  246435.0\n",
       "2   Alabama   Barbour         25224   24960   24539.0   24706.0\n",
       "3   Alabama      Bibb         22300   22183   22370.0   22005.0\n",
       "4   Alabama    Blount         59130   59102   59085.0   59512.0\n",
       "5   Alabama   Bullock         10362   10296   10280.0   10202.0\n",
       "6   Alabama    Butler         19055   19031   18855.0   18650.0\n",
       "7   Alabama   Calhoun        116444  116239  115677.0  115788.0\n",
       "8   Alabama  Chambers         34774   34645   34446.0   34088.0\n",
       "9   Alabama  Cherokee         24979   24972   25026.0   25302.0"
      ]
     },
     "execution_count": 32,
     "metadata": {},
     "output_type": "execute_result"
    }
   ],
   "source": [
    "#read the CSV file\n",
    "df = pd.read_csv(\"../Resources/population.csv\", index_col=0)\n",
    "\n",
    "#Keep everything after the 4th\n",
    "df = df.iloc[4:,:]\n",
    "\n",
    "#reset the index\n",
    "df = df.reset_index(drop = True)\n",
    "\n",
    "df = df.rename(columns = {'table with row headers in column A and column headers in rows 3 through 4 (leading dots indicate sub-parts)': \"County\", \n",
    "                'Unnamed: 1': \"Base Estimate\",\n",
    "                'Unnamed: 2': \"2020\",\n",
    "                'Unnamed: 3': \"2021\",\n",
    "                'Unnamed: 4': \"2022\"})\n",
    "\n",
    "df = df.dropna()\n",
    "\n",
    "# add a state column\n",
    "df[\"State\"] = df[\"County\"].apply(lambda x: re.sub(r'\\..*\\,', '' ,x))\n",
    "\n",
    "# change the county column to only contain County\n",
    "df[\"County\"] = df[\"County\"].apply(lambda x : re.findall(r'\\.(.*?)\\ ',x)[0])\n",
    "\n",
    "#reaarrage the columns\n",
    "df = df[[\"State\", \"County\", \"Base Estimate\", \"2020\", \"2021\", \"2022\"]]\n",
    "\n",
    "df.head(10)"
   ]
  },
  {
   "cell_type": "code",
   "execution_count": 33,
   "metadata": {},
   "outputs": [],
   "source": [
    "# Processed data to csv\n",
    "df.to_csv(\"../Resources/population.csv\")"
   ]
  }
 ],
 "metadata": {
  "kernelspec": {
   "display_name": "dev",
   "language": "python",
   "name": "python3"
  },
  "language_info": {
   "codemirror_mode": {
    "name": "ipython",
    "version": 3
   },
   "file_extension": ".py",
   "mimetype": "text/x-python",
   "name": "python",
   "nbconvert_exporter": "python",
   "pygments_lexer": "ipython3",
   "version": "3.10.13"
  }
 },
 "nbformat": 4,
 "nbformat_minor": 2
}

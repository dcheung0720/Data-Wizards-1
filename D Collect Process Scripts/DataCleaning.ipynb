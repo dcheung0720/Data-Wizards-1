{
 "cells": [
  {
   "cell_type": "code",
   "execution_count": 6,
   "metadata": {},
   "outputs": [],
   "source": [
    "import pandas as pd\n",
    "from datetime import datetime\n",
    "import requests"
   ]
  },
  {
   "cell_type": "code",
   "execution_count": 7,
   "metadata": {},
   "outputs": [],
   "source": [
    "# Displaying some Crash List Data\n",
    "df_crash_list = pd.read_csv(\"../Resources/CrashList.csv\",index_col=0)\n",
    "df_crash_list = df_crash_list[df_crash_list[\"CrashDate\"].apply(lambda x : datetime.strptime(x, \"%Y-%m-%d %H:%M:%S\").strftime(\"%Y\")) != \"2017\"]"
   ]
  },
  {
   "cell_type": "markdown",
   "metadata": {},
   "source": [
    "<h3>2. Latitude and Longitude of each unique (county and state)</h3>"
   ]
  },
  {
   "cell_type": "code",
   "execution_count": null,
   "metadata": {},
   "outputs": [],
   "source": [
    "# Get rid of parentheses and the content in them with regular expression\n",
    "df_locations_fatalities = df_crash_list[[\"CountyName\", \"StateName\", \"Fatals\"]].copy()\n",
    "df_locations_fatalities[\"CountyName\"] = df_locations_fatalities[\"CountyName\"].apply(lambda x: re.sub(r'\\([^)]*\\)', '', x))\n",
    "df_locations_fatalities.head()"
   ]
  },
  {
   "cell_type": "code",
   "execution_count": null,
   "metadata": {},
   "outputs": [],
   "source": [
    "# Find longitude and latitude of each state and county\n",
    "df_fatalities_by_loc = df_locations_fatalities.groupby([\"CountyName\", \"StateName\"]).count()\n",
    "\n",
    "# Convert it back to DF\n",
    "df_fatalities_by_loc = df_fatalities_by_loc.reset_index()\n",
    "\n",
    "\n",
    "# For each unique location, find longitude and latitude using geoapify\n",
    "for idx, location in df_fatalities_by_loc.iterrows():\n",
    "\n",
    "    base_url = \"https://api.geoapify.com/v1/geocode/search?\"\n",
    "    \n",
    "    county = location[\"CountyName\"]\n",
    "    state = location[\"StateName\"]\n",
    "    \n",
    "    params = {\n",
    "        \"text\": f\"{county}, {state}\",\n",
    "        \"apiKey\": \"\"\n",
    "    }\n",
    "\n",
    "    try:\n",
    "        res = requests.get(base_url, params=params)\n",
    "        data = res.json()\n",
    "\n",
    "        properties = data[\"features\"][0][\"properties\"]\n",
    "\n",
    "        lat = properties[\"lat\"]\n",
    "        lon = properties[\"lon\"]\n",
    "        \n",
    "        df_fatalities_by_loc.at[idx, \"lat\"] = lat\n",
    "        df_fatalities_by_loc.at[idx, \"long\"] = lon\n",
    "    except Exception as e:\n",
    "        print(\"Oh no, we ran into a problem:\", e)\n",
    "\n",
    "df_fatalities_by_loc\n",
    "\n"
   ]
  },
  {
   "cell_type": "code",
   "execution_count": null,
   "metadata": {},
   "outputs": [],
   "source": [
    "#Save as CSV\n",
    "df_fatalities_by_loc.to_csv(\"../Resources/County_State_Fatalities_18-19.csv\")"
   ]
  }
 ],
 "metadata": {
  "kernelspec": {
   "display_name": "dev",
   "language": "python",
   "name": "python3"
  },
  "language_info": {
   "codemirror_mode": {
    "name": "ipython",
    "version": 3
   },
   "file_extension": ".py",
   "mimetype": "text/x-python",
   "name": "python",
   "nbconvert_exporter": "python",
   "pygments_lexer": "ipython3",
   "version": "3.10.13"
  }
 },
 "nbformat": 4,
 "nbformat_minor": 2
}
